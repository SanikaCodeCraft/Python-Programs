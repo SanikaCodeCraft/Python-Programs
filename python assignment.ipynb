{
 "cells": [
  {
   "cell_type": "markdown",
   "id": "4068bcbd-2f40-415b-a225-51438b9c1282",
   "metadata": {},
   "source": [
    "1.Write a Python program to find the area of a triangle?"
   ]
  },
  {
   "cell_type": "code",
   "execution_count": 1,
   "id": "5c6e11a2-1436-4dff-ba47-b5ae76bd0247",
   "metadata": {},
   "outputs": [
    {
     "name": "stdin",
     "output_type": "stream",
     "text": [
      "Enter your Height: 22\n",
      "Enter your Base: 55\n"
     ]
    },
    {
     "data": {
      "text/plain": [
       "605.0"
      ]
     },
     "execution_count": 1,
     "metadata": {},
     "output_type": "execute_result"
    }
   ],
   "source": [
    "Height=int(input(\"Enter your Height:\"))\n",
    "Base=int(input(\"Enter your Base:\"))\n",
    "Area=0.5*Base*Height\n",
    "Area"
   ]
  },
  {
   "cell_type": "markdown",
   "id": "36ed9769-c3ab-4c89-bb12-da9233740b1e",
   "metadata": {},
   "source": [
    "2.Write a Python program to swap two variables?"
   ]
  },
  {
   "cell_type": "code",
   "execution_count": 8,
   "id": "61f31518-b7b4-42ed-a4b2-57c1db57621d",
   "metadata": {},
   "outputs": [],
   "source": [
    "x=16\n",
    "y=12"
   ]
  },
  {
   "cell_type": "code",
   "execution_count": 9,
   "id": "8b90c850-0508-4a31-9568-e2a311921dc7",
   "metadata": {},
   "outputs": [],
   "source": [
    "x,y=y,x"
   ]
  },
  {
   "cell_type": "code",
   "execution_count": 17,
   "id": "a18f9177-281e-47b8-b4c7-25a93343e698",
   "metadata": {},
   "outputs": [
    {
     "data": {
      "text/plain": [
       "('value of x:', 12)"
      ]
     },
     "execution_count": 17,
     "metadata": {},
     "output_type": "execute_result"
    }
   ],
   "source": [
    "\"value of x:\",x"
   ]
  },
  {
   "cell_type": "code",
   "execution_count": 18,
   "id": "11a9a6f1-37ea-4f3a-bba2-a07e6ab22767",
   "metadata": {},
   "outputs": [
    {
     "data": {
      "text/plain": [
       "('value of y:', 16)"
      ]
     },
     "execution_count": 18,
     "metadata": {},
     "output_type": "execute_result"
    }
   ],
   "source": [
    "\"value of y:\",y"
   ]
  },
  {
   "cell_type": "markdown",
   "id": "1766be41-de7e-44bb-aff4-a1da5a199d8c",
   "metadata": {},
   "source": [
    "3.Write a Python program to generate a random number?"
   ]
  },
  {
   "cell_type": "code",
   "execution_count": 42,
   "id": "e50db91b-cc8f-4ed0-8978-db84ad6d4a5c",
   "metadata": {},
   "outputs": [],
   "source": [
    "import random"
   ]
  },
  {
   "cell_type": "code",
   "execution_count": 43,
   "id": "3fa85968-788c-49c9-9f1d-42b42f02bbe8",
   "metadata": {
    "scrolled": true
   },
   "outputs": [
    {
     "name": "stdout",
     "output_type": "stream",
     "text": [
      "506\n"
     ]
    }
   ],
   "source": [
    "a=random.randint(0,1000)\n",
    "print(a)"
   ]
  },
  {
   "cell_type": "markdown",
   "id": "7341b435-346c-46ff-9e89-6312761de27d",
   "metadata": {},
   "source": [
    "5.Write a Python Program to Check if a Number is Positive, Negative or Zero?"
   ]
  },
  {
   "cell_type": "code",
   "execution_count": 2,
   "id": "a2d12779-2472-40d5-a52b-5ca6793720b6",
   "metadata": {},
   "outputs": [
    {
     "name": "stdin",
     "output_type": "stream",
     "text": [
      "Enter your Number: -1\n"
     ]
    },
    {
     "name": "stdout",
     "output_type": "stream",
     "text": [
      "Number is negative\n"
     ]
    }
   ],
   "source": [
    "num=int(input(\"Enter your Number:\"))\n",
    "if num>0:\n",
    "    print(\"Number is positive\")\n",
    "elif num==0:\n",
    "    print(\"Number is zero\")\n",
    "else:\n",
    "    print(\"Number is negative\")"
   ]
  },
  {
   "cell_type": "markdown",
   "id": "596f6522-e7db-44c8-9c15-919ef25863ee",
   "metadata": {},
   "source": [
    "6.Write a Python Program to Check if a Number is Odd or Even?"
   ]
  },
  {
   "cell_type": "code",
   "execution_count": 7,
   "id": "8d1762fe-a201-4971-8be9-a0d2319632cd",
   "metadata": {},
   "outputs": [
    {
     "name": "stdin",
     "output_type": "stream",
     "text": [
      "Enter your number: 4\n"
     ]
    },
    {
     "name": "stdout",
     "output_type": "stream",
     "text": [
      "Number is even\n"
     ]
    }
   ],
   "source": [
    "num=int(input(\"Enter your number:\"))\n",
    "if (num%2)==0:\n",
    "    print(\"Number is even\")\n",
    "else:\n",
    "    print(\"Number is odd\")\n"
   ]
  },
  {
   "cell_type": "markdown",
   "id": "c94fa30d-3468-485c-9201-3e9350e3bb64",
   "metadata": {},
   "source": [
    "7.Write a Python Program to Check Leap Year?"
   ]
  },
  {
   "cell_type": "code",
   "execution_count": 9,
   "id": "2f831c95-a123-4b4c-9285-2a0a0cd0df90",
   "metadata": {},
   "outputs": [
    {
     "name": "stdin",
     "output_type": "stream",
     "text": [
      "Enter your Year: 2023\n"
     ]
    },
    {
     "name": "stdout",
     "output_type": "stream",
     "text": [
      "Year isn't leap year\n"
     ]
    }
   ],
   "source": [
    "year=int(input(\"Enter your Year:\"))\n",
    "if(year%4==0 and year%100!=0 or year%400==0):\n",
    "    print(\"Year is leap year\")\n",
    "else:\n",
    "    print(\"Year isn't leap year\")"
   ]
  },
  {
   "cell_type": "markdown",
   "id": "efbbb21c-360d-465c-b876-0b7d1ea1074c",
   "metadata": {},
   "source": [
    "8.Write a Python Program to Check Prime Number?"
   ]
  },
  {
   "cell_type": "code",
   "execution_count": 13,
   "id": "2c32f0b6-0d84-4e3c-b8cd-c89d33647546",
   "metadata": {},
   "outputs": [
    {
     "name": "stdin",
     "output_type": "stream",
     "text": [
      "Enter a number : 8\n"
     ]
    },
    {
     "name": "stdout",
     "output_type": "stream",
     "text": [
      "not prime number\n"
     ]
    }
   ],
   "source": [
    "n=int(input(\"Enter a number :\"))\n",
    "if n == 1:\n",
    "    print(\"not prime number\")\n",
    "if n>1:\n",
    "    for i in range(2,n):\n",
    "        if n%i == 0:\n",
    "            print(\"not prime number\")\n",
    "            break\n",
    "    else:\n",
    "        print(\"prime number\")"
   ]
  },
  {
   "cell_type": "markdown",
   "id": "f954e832-03bb-4731-a24b-e7825ab871b4",
   "metadata": {},
   "source": [
    "9.Write a Python Program to Display the multiplication Table?"
   ]
  },
  {
   "cell_type": "code",
   "execution_count": 10,
   "id": "a3356465-c902-44cc-9b00-61dd11a2db47",
   "metadata": {},
   "outputs": [
    {
     "name": "stdin",
     "output_type": "stream",
     "text": [
      "Enter any number: 8\n"
     ]
    },
    {
     "name": "stdout",
     "output_type": "stream",
     "text": [
      "8 x 1 = 8\n",
      "8 x 2 = 16\n",
      "8 x 3 = 24\n",
      "8 x 4 = 32\n",
      "8 x 5 = 40\n",
      "8 x 6 = 48\n",
      "8 x 7 = 56\n",
      "8 x 8 = 64\n",
      "8 x 9 = 72\n",
      "8 x 10 = 80\n"
     ]
    }
   ],
   "source": [
    "n=int(input(\"Enter any number:\"))\n",
    "for i in range(1,11):\n",
    "    print(n,\"x\",i,\"=\",i*n)"
   ]
  },
  {
   "cell_type": "markdown",
   "id": "cbb93f14-751a-4b88-a005-86e8a7819d7c",
   "metadata": {},
   "source": [
    "10.Write a Python Program to Find the Sum of Natural Numbers?"
   ]
  },
  {
   "cell_type": "code",
   "execution_count": 16,
   "id": "ebc45fdd-3d87-44e1-ae1f-8d491e8373eb",
   "metadata": {},
   "outputs": [
    {
     "name": "stdin",
     "output_type": "stream",
     "text": [
      "Enter your number: 9\n"
     ]
    },
    {
     "name": "stdout",
     "output_type": "stream",
     "text": [
      "45\n"
     ]
    }
   ],
   "source": [
    "n=int(input(\"Enter your number:\"))\n",
    "if n<0:\n",
    "    print(\"please enter positive number\")\n",
    "else:\n",
    "    sum=0\n",
    "    while n>0:\n",
    "        sum+=n\n",
    "        n-=1\n",
    "    print(sum)"
   ]
  },
  {
   "cell_type": "markdown",
   "id": "b6fde15c-16f6-4133-a043-e500b6db56ac",
   "metadata": {},
   "source": [
    "11.Write a Python Program to Make a Simple Calculator with 4 basic mathematical operations?"
   ]
  },
  {
   "cell_type": "code",
   "execution_count": 24,
   "id": "ab12d202-7792-4c29-967e-c54aaebefb0a",
   "metadata": {
    "scrolled": true
   },
   "outputs": [
    {
     "name": "stdout",
     "output_type": "stream",
     "text": [
      "Simple Calculator\n"
     ]
    },
    {
     "name": "stdin",
     "output_type": "stream",
     "text": [
      "Enter first number here: 16\n",
      "Enter second number here: 12\n"
     ]
    },
    {
     "name": "stdout",
     "output_type": "stream",
     "text": [
      "press 1 for addition \n",
      "press 2 for subtraction \n",
      "press 3 for multiplication \n",
      "press 4 for division\n"
     ]
    },
    {
     "name": "stdin",
     "output_type": "stream",
     "text": [
      "Enter your choise from 1-4: 4\n"
     ]
    },
    {
     "name": "stdout",
     "output_type": "stream",
     "text": [
      "1.3333333333333333\n"
     ]
    }
   ],
   "source": [
    "print(\"Simple Calculator\")\n",
    "num1=int(input(\"Enter first number here:\"))\n",
    "num2=int(input(\"Enter second number here:\"))\n",
    "print(\"press 1 for addition \\npress 2 for subtraction \\npress 3 for multiplication \\npress 4 for division\")\n",
    "choice =int(input(\"Enter your choise from 1-4:\"))\n",
    "if choice == 1:\n",
    "    print(num1+num2)\n",
    "elif choice == 2:\n",
    "    print(num1-num2)\n",
    "elif choice == 3:\n",
    "    print(num1*num2)\n",
    "elif choice == 4:\n",
    "    print(num1/num2)\n",
    "else:\n",
    "    print(\"Invalid Input\")\n"
   ]
  },
  {
   "cell_type": "markdown",
   "id": "74708db1-12d8-4cc0-bcc7-f02f5a65f656",
   "metadata": {},
   "source": [
    "12.Write a Python program to find sum of elements in list?"
   ]
  },
  {
   "cell_type": "code",
   "execution_count": 30,
   "id": "84ea7824-5f71-4307-b7b8-0d286a94b052",
   "metadata": {},
   "outputs": [
    {
     "name": "stdout",
     "output_type": "stream",
     "text": [
      "sum of elements in the list: 36\n"
     ]
    }
   ],
   "source": [
    "list=[9,5,2,8,12]\n",
    "sum_of_elements = 0\n",
    "for ele in list:\n",
    "    sum_of_elements +=ele\n",
    "print(\"sum of elements in the list:\",sum_of_elements)\n"
   ]
  },
  {
   "cell_type": "markdown",
   "id": "14c47c52-b6f2-49fa-bb8b-ea6ad538e172",
   "metadata": {},
   "source": [
    "13.Write a Python program to  Multiply all numbers in the list?"
   ]
  },
  {
   "cell_type": "code",
   "execution_count": 31,
   "id": "ca815634-e235-402d-80c3-182b323df22a",
   "metadata": {},
   "outputs": [
    {
     "name": "stdout",
     "output_type": "stream",
     "text": [
      "Result using loop: 5040\n"
     ]
    }
   ],
   "source": [
    "def multiply_list(numbers):\n",
    "    result = 1\n",
    "    for num in numbers:\n",
    "        result *=num\n",
    "    return result\n",
    "num_list=[1,2,3,4,5,6,7]\n",
    "result = multiply_list(num_list)\n",
    "print(\"Result using loop:\",result)"
   ]
  },
  {
   "cell_type": "markdown",
   "id": "2caac74d-b278-467b-8258-c6c63dbecff0",
   "metadata": {},
   "source": [
    "14.Write a Python program to find smallest number in a list?"
   ]
  },
  {
   "cell_type": "code",
   "execution_count": 38,
   "id": "0fc3759c-113f-4487-8e96-ffe98dc6dc26",
   "metadata": {},
   "outputs": [
    {
     "name": "stdout",
     "output_type": "stream",
     "text": [
      "[13, 29, 33, 48, 56, 67, 75, 83, 88, 98, 99]\n",
      "Smallest number is: 13\n"
     ]
    }
   ],
   "source": [
    "list=[99,56,98,13,67,83,29,33,48,75,88]\n",
    "list.sort()\n",
    "print(list)\n",
    "print(\"Smallest number is:\",list[0])"
   ]
  },
  {
   "cell_type": "markdown",
   "id": "e1d970fd-d139-4288-a4b3-330869c001bc",
   "metadata": {},
   "source": [
    "15.Write a Python program to find largest number in a list?"
   ]
  },
  {
   "cell_type": "code",
   "execution_count": 39,
   "id": "2da6fa07-9fe3-44a0-ab64-d68495359806",
   "metadata": {},
   "outputs": [
    {
     "name": "stdout",
     "output_type": "stream",
     "text": [
      "[13, 29, 33, 48, 56, 67, 75, 83, 88, 98, 99]\n",
      "Largest number is: 99\n"
     ]
    }
   ],
   "source": [
    "list=[99,56,98,13,67,83,29,33,48,75,88]\n",
    "list.sort()\n",
    "print(list)\n",
    "print(\"Largest number is:\",list[-1])"
   ]
  },
  {
   "cell_type": "code",
   "execution_count": null,
   "id": "b475444d-b513-4831-8e2f-bdfde5afcbbf",
   "metadata": {},
   "outputs": [],
   "source": []
  }
 ],
 "metadata": {
  "kernelspec": {
   "display_name": "Python 3 (ipykernel)",
   "language": "python",
   "name": "python3"
  },
  "language_info": {
   "codemirror_mode": {
    "name": "ipython",
    "version": 3
   },
   "file_extension": ".py",
   "mimetype": "text/x-python",
   "name": "python",
   "nbconvert_exporter": "python",
   "pygments_lexer": "ipython3",
   "version": "3.12.3"
  }
 },
 "nbformat": 4,
 "nbformat_minor": 5
}
